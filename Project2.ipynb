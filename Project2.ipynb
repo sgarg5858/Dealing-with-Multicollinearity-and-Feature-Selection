{
 "cells": [
  {
   "cell_type": "code",
   "execution_count": 87,
   "metadata": {},
   "outputs": [],
   "source": [
    "import pandas as pd"
   ]
  },
  {
   "cell_type": "code",
   "execution_count": 88,
   "metadata": {},
   "outputs": [],
   "source": [
    "df1=pd.read_csv('trial.csv')\n",
    "df2=pd.read_csv('audit.csv')"
   ]
  },
  {
   "cell_type": "code",
   "execution_count": 89,
   "metadata": {},
   "outputs": [
    {
     "data": {
      "text/plain": [
       "(776, 18)"
      ]
     },
     "execution_count": 89,
     "metadata": {},
     "output_type": "execute_result"
    }
   ],
   "source": [
    "df1.shape"
   ]
  },
  {
   "cell_type": "code",
   "execution_count": 90,
   "metadata": {},
   "outputs": [
    {
     "data": {
      "text/plain": [
       "(776, 27)"
      ]
     },
     "execution_count": 90,
     "metadata": {},
     "output_type": "execute_result"
    }
   ],
   "source": [
    "df2.shape"
   ]
  },
  {
   "cell_type": "code",
   "execution_count": 91,
   "metadata": {},
   "outputs": [
    {
     "data": {
      "text/html": [
       "<div>\n",
       "<style scoped>\n",
       "    .dataframe tbody tr th:only-of-type {\n",
       "        vertical-align: middle;\n",
       "    }\n",
       "\n",
       "    .dataframe tbody tr th {\n",
       "        vertical-align: top;\n",
       "    }\n",
       "\n",
       "    .dataframe thead th {\n",
       "        text-align: right;\n",
       "    }\n",
       "</style>\n",
       "<table border=\"1\" class=\"dataframe\">\n",
       "  <thead>\n",
       "    <tr style=\"text-align: right;\">\n",
       "      <th></th>\n",
       "      <th>Sector_score</th>\n",
       "      <th>LOCATION_ID</th>\n",
       "      <th>PARA_A</th>\n",
       "      <th>SCORE_A</th>\n",
       "      <th>PARA_B</th>\n",
       "      <th>SCORE_B</th>\n",
       "      <th>TOTAL</th>\n",
       "      <th>numbers</th>\n",
       "      <th>Marks</th>\n",
       "      <th>Money_Value</th>\n",
       "      <th>MONEY_Marks</th>\n",
       "      <th>District</th>\n",
       "      <th>Loss</th>\n",
       "      <th>LOSS_SCORE</th>\n",
       "      <th>History</th>\n",
       "      <th>History_score</th>\n",
       "      <th>Score</th>\n",
       "      <th>Risk</th>\n",
       "    </tr>\n",
       "  </thead>\n",
       "  <tbody>\n",
       "    <tr>\n",
       "      <th>0</th>\n",
       "      <td>3.89</td>\n",
       "      <td>23</td>\n",
       "      <td>4.18</td>\n",
       "      <td>6</td>\n",
       "      <td>2.50</td>\n",
       "      <td>2</td>\n",
       "      <td>6.68</td>\n",
       "      <td>5.0</td>\n",
       "      <td>2</td>\n",
       "      <td>3.38</td>\n",
       "      <td>2</td>\n",
       "      <td>2</td>\n",
       "      <td>0</td>\n",
       "      <td>2</td>\n",
       "      <td>0</td>\n",
       "      <td>2</td>\n",
       "      <td>2.4</td>\n",
       "      <td>1</td>\n",
       "    </tr>\n",
       "    <tr>\n",
       "      <th>1</th>\n",
       "      <td>3.89</td>\n",
       "      <td>6</td>\n",
       "      <td>0.00</td>\n",
       "      <td>2</td>\n",
       "      <td>4.83</td>\n",
       "      <td>2</td>\n",
       "      <td>4.83</td>\n",
       "      <td>5.0</td>\n",
       "      <td>2</td>\n",
       "      <td>0.94</td>\n",
       "      <td>2</td>\n",
       "      <td>2</td>\n",
       "      <td>0</td>\n",
       "      <td>2</td>\n",
       "      <td>0</td>\n",
       "      <td>2</td>\n",
       "      <td>2.0</td>\n",
       "      <td>0</td>\n",
       "    </tr>\n",
       "    <tr>\n",
       "      <th>2</th>\n",
       "      <td>3.89</td>\n",
       "      <td>6</td>\n",
       "      <td>0.51</td>\n",
       "      <td>2</td>\n",
       "      <td>0.23</td>\n",
       "      <td>2</td>\n",
       "      <td>0.74</td>\n",
       "      <td>5.0</td>\n",
       "      <td>2</td>\n",
       "      <td>0.00</td>\n",
       "      <td>2</td>\n",
       "      <td>2</td>\n",
       "      <td>0</td>\n",
       "      <td>2</td>\n",
       "      <td>0</td>\n",
       "      <td>2</td>\n",
       "      <td>2.0</td>\n",
       "      <td>0</td>\n",
       "    </tr>\n",
       "    <tr>\n",
       "      <th>3</th>\n",
       "      <td>3.89</td>\n",
       "      <td>6</td>\n",
       "      <td>0.00</td>\n",
       "      <td>2</td>\n",
       "      <td>10.80</td>\n",
       "      <td>6</td>\n",
       "      <td>10.80</td>\n",
       "      <td>6.0</td>\n",
       "      <td>6</td>\n",
       "      <td>11.75</td>\n",
       "      <td>6</td>\n",
       "      <td>2</td>\n",
       "      <td>0</td>\n",
       "      <td>2</td>\n",
       "      <td>0</td>\n",
       "      <td>2</td>\n",
       "      <td>4.4</td>\n",
       "      <td>1</td>\n",
       "    </tr>\n",
       "    <tr>\n",
       "      <th>4</th>\n",
       "      <td>3.89</td>\n",
       "      <td>6</td>\n",
       "      <td>0.00</td>\n",
       "      <td>2</td>\n",
       "      <td>0.08</td>\n",
       "      <td>2</td>\n",
       "      <td>0.08</td>\n",
       "      <td>5.0</td>\n",
       "      <td>2</td>\n",
       "      <td>0.00</td>\n",
       "      <td>2</td>\n",
       "      <td>2</td>\n",
       "      <td>0</td>\n",
       "      <td>2</td>\n",
       "      <td>0</td>\n",
       "      <td>2</td>\n",
       "      <td>2.0</td>\n",
       "      <td>0</td>\n",
       "    </tr>\n",
       "  </tbody>\n",
       "</table>\n",
       "</div>"
      ],
      "text/plain": [
       "   Sector_score LOCATION_ID  PARA_A  SCORE_A  PARA_B  SCORE_B  TOTAL  numbers  \\\n",
       "0          3.89          23    4.18        6    2.50        2   6.68      5.0   \n",
       "1          3.89           6    0.00        2    4.83        2   4.83      5.0   \n",
       "2          3.89           6    0.51        2    0.23        2   0.74      5.0   \n",
       "3          3.89           6    0.00        2   10.80        6  10.80      6.0   \n",
       "4          3.89           6    0.00        2    0.08        2   0.08      5.0   \n",
       "\n",
       "   Marks  Money_Value  MONEY_Marks  District  Loss  LOSS_SCORE  History  \\\n",
       "0      2         3.38            2         2     0           2        0   \n",
       "1      2         0.94            2         2     0           2        0   \n",
       "2      2         0.00            2         2     0           2        0   \n",
       "3      6        11.75            6         2     0           2        0   \n",
       "4      2         0.00            2         2     0           2        0   \n",
       "\n",
       "   History_score  Score  Risk  \n",
       "0              2    2.4     1  \n",
       "1              2    2.0     0  \n",
       "2              2    2.0     0  \n",
       "3              2    4.4     1  \n",
       "4              2    2.0     0  "
      ]
     },
     "execution_count": 91,
     "metadata": {},
     "output_type": "execute_result"
    }
   ],
   "source": [
    "df1.head()"
   ]
  },
  {
   "cell_type": "code",
   "execution_count": 92,
   "metadata": {},
   "outputs": [
    {
     "data": {
      "text/html": [
       "<div>\n",
       "<style scoped>\n",
       "    .dataframe tbody tr th:only-of-type {\n",
       "        vertical-align: middle;\n",
       "    }\n",
       "\n",
       "    .dataframe tbody tr th {\n",
       "        vertical-align: top;\n",
       "    }\n",
       "\n",
       "    .dataframe thead th {\n",
       "        text-align: right;\n",
       "    }\n",
       "</style>\n",
       "<table border=\"1\" class=\"dataframe\">\n",
       "  <thead>\n",
       "    <tr style=\"text-align: right;\">\n",
       "      <th></th>\n",
       "      <th>Sector_score</th>\n",
       "      <th>LOCATION_ID</th>\n",
       "      <th>PARA_A</th>\n",
       "      <th>Score_A</th>\n",
       "      <th>Risk_A</th>\n",
       "      <th>PARA_B</th>\n",
       "      <th>Score_B</th>\n",
       "      <th>Risk_B</th>\n",
       "      <th>TOTAL</th>\n",
       "      <th>numbers</th>\n",
       "      <th>...</th>\n",
       "      <th>RiSk_E</th>\n",
       "      <th>History</th>\n",
       "      <th>Prob</th>\n",
       "      <th>Risk_F</th>\n",
       "      <th>Score</th>\n",
       "      <th>Inherent_Risk</th>\n",
       "      <th>CONTROL_RISK</th>\n",
       "      <th>Detection_Risk</th>\n",
       "      <th>Audit_Risk</th>\n",
       "      <th>Risk</th>\n",
       "    </tr>\n",
       "  </thead>\n",
       "  <tbody>\n",
       "    <tr>\n",
       "      <th>0</th>\n",
       "      <td>3.89</td>\n",
       "      <td>23</td>\n",
       "      <td>4.18</td>\n",
       "      <td>0.6</td>\n",
       "      <td>2.508</td>\n",
       "      <td>2.50</td>\n",
       "      <td>0.2</td>\n",
       "      <td>0.500</td>\n",
       "      <td>6.68</td>\n",
       "      <td>5.0</td>\n",
       "      <td>...</td>\n",
       "      <td>0.4</td>\n",
       "      <td>0</td>\n",
       "      <td>0.2</td>\n",
       "      <td>0.0</td>\n",
       "      <td>2.4</td>\n",
       "      <td>8.574</td>\n",
       "      <td>0.4</td>\n",
       "      <td>0.5</td>\n",
       "      <td>1.7148</td>\n",
       "      <td>1</td>\n",
       "    </tr>\n",
       "    <tr>\n",
       "      <th>1</th>\n",
       "      <td>3.89</td>\n",
       "      <td>6</td>\n",
       "      <td>0.00</td>\n",
       "      <td>0.2</td>\n",
       "      <td>0.000</td>\n",
       "      <td>4.83</td>\n",
       "      <td>0.2</td>\n",
       "      <td>0.966</td>\n",
       "      <td>4.83</td>\n",
       "      <td>5.0</td>\n",
       "      <td>...</td>\n",
       "      <td>0.4</td>\n",
       "      <td>0</td>\n",
       "      <td>0.2</td>\n",
       "      <td>0.0</td>\n",
       "      <td>2.0</td>\n",
       "      <td>2.554</td>\n",
       "      <td>0.4</td>\n",
       "      <td>0.5</td>\n",
       "      <td>0.5108</td>\n",
       "      <td>0</td>\n",
       "    </tr>\n",
       "    <tr>\n",
       "      <th>2</th>\n",
       "      <td>3.89</td>\n",
       "      <td>6</td>\n",
       "      <td>0.51</td>\n",
       "      <td>0.2</td>\n",
       "      <td>0.102</td>\n",
       "      <td>0.23</td>\n",
       "      <td>0.2</td>\n",
       "      <td>0.046</td>\n",
       "      <td>0.74</td>\n",
       "      <td>5.0</td>\n",
       "      <td>...</td>\n",
       "      <td>0.4</td>\n",
       "      <td>0</td>\n",
       "      <td>0.2</td>\n",
       "      <td>0.0</td>\n",
       "      <td>2.0</td>\n",
       "      <td>1.548</td>\n",
       "      <td>0.4</td>\n",
       "      <td>0.5</td>\n",
       "      <td>0.3096</td>\n",
       "      <td>0</td>\n",
       "    </tr>\n",
       "    <tr>\n",
       "      <th>3</th>\n",
       "      <td>3.89</td>\n",
       "      <td>6</td>\n",
       "      <td>0.00</td>\n",
       "      <td>0.2</td>\n",
       "      <td>0.000</td>\n",
       "      <td>10.80</td>\n",
       "      <td>0.6</td>\n",
       "      <td>6.480</td>\n",
       "      <td>10.80</td>\n",
       "      <td>6.0</td>\n",
       "      <td>...</td>\n",
       "      <td>0.4</td>\n",
       "      <td>0</td>\n",
       "      <td>0.2</td>\n",
       "      <td>0.0</td>\n",
       "      <td>4.4</td>\n",
       "      <td>17.530</td>\n",
       "      <td>0.4</td>\n",
       "      <td>0.5</td>\n",
       "      <td>3.5060</td>\n",
       "      <td>1</td>\n",
       "    </tr>\n",
       "    <tr>\n",
       "      <th>4</th>\n",
       "      <td>3.89</td>\n",
       "      <td>6</td>\n",
       "      <td>0.00</td>\n",
       "      <td>0.2</td>\n",
       "      <td>0.000</td>\n",
       "      <td>0.08</td>\n",
       "      <td>0.2</td>\n",
       "      <td>0.016</td>\n",
       "      <td>0.08</td>\n",
       "      <td>5.0</td>\n",
       "      <td>...</td>\n",
       "      <td>0.4</td>\n",
       "      <td>0</td>\n",
       "      <td>0.2</td>\n",
       "      <td>0.0</td>\n",
       "      <td>2.0</td>\n",
       "      <td>1.416</td>\n",
       "      <td>0.4</td>\n",
       "      <td>0.5</td>\n",
       "      <td>0.2832</td>\n",
       "      <td>0</td>\n",
       "    </tr>\n",
       "  </tbody>\n",
       "</table>\n",
       "<p>5 rows × 27 columns</p>\n",
       "</div>"
      ],
      "text/plain": [
       "   Sector_score LOCATION_ID  PARA_A  Score_A  Risk_A  PARA_B  Score_B  Risk_B  \\\n",
       "0          3.89          23    4.18      0.6   2.508    2.50      0.2   0.500   \n",
       "1          3.89           6    0.00      0.2   0.000    4.83      0.2   0.966   \n",
       "2          3.89           6    0.51      0.2   0.102    0.23      0.2   0.046   \n",
       "3          3.89           6    0.00      0.2   0.000   10.80      0.6   6.480   \n",
       "4          3.89           6    0.00      0.2   0.000    0.08      0.2   0.016   \n",
       "\n",
       "   TOTAL  numbers  ...   RiSk_E  History  Prob  Risk_F  Score  Inherent_Risk  \\\n",
       "0   6.68      5.0  ...      0.4        0   0.2     0.0    2.4          8.574   \n",
       "1   4.83      5.0  ...      0.4        0   0.2     0.0    2.0          2.554   \n",
       "2   0.74      5.0  ...      0.4        0   0.2     0.0    2.0          1.548   \n",
       "3  10.80      6.0  ...      0.4        0   0.2     0.0    4.4         17.530   \n",
       "4   0.08      5.0  ...      0.4        0   0.2     0.0    2.0          1.416   \n",
       "\n",
       "   CONTROL_RISK  Detection_Risk  Audit_Risk  Risk  \n",
       "0           0.4             0.5      1.7148     1  \n",
       "1           0.4             0.5      0.5108     0  \n",
       "2           0.4             0.5      0.3096     0  \n",
       "3           0.4             0.5      3.5060     1  \n",
       "4           0.4             0.5      0.2832     0  \n",
       "\n",
       "[5 rows x 27 columns]"
      ]
     },
     "execution_count": 92,
     "metadata": {},
     "output_type": "execute_result"
    }
   ],
   "source": [
    "df2.head()"
   ]
  },
  {
   "cell_type": "code",
   "execution_count": 93,
   "metadata": {},
   "outputs": [
    {
     "data": {
      "text/plain": [
       "Index(['Sector_score', 'LOCATION_ID', 'PARA_A', 'SCORE_A', 'PARA_B', 'SCORE_B',\n",
       "       'TOTAL', 'numbers', 'Marks', 'Money_Value', 'MONEY_Marks', 'District',\n",
       "       'Loss', 'LOSS_SCORE', 'History', 'History_score', 'Score', 'Risk'],\n",
       "      dtype='object')"
      ]
     },
     "execution_count": 93,
     "metadata": {},
     "output_type": "execute_result"
    }
   ],
   "source": [
    "df1.columns"
   ]
  },
  {
   "cell_type": "code",
   "execution_count": 94,
   "metadata": {},
   "outputs": [
    {
     "data": {
      "text/plain": [
       "Index(['Sector_score', 'LOCATION_ID', 'PARA_A', 'Score_A', 'Risk_A', 'PARA_B',\n",
       "       'Score_B', 'Risk_B', 'TOTAL', 'numbers', 'Score_B.1', 'Risk_C',\n",
       "       'Money_Value', 'Score_MV', 'Risk_D', 'District_Loss', 'PROB', 'RiSk_E',\n",
       "       'History', 'Prob', 'Risk_F', 'Score', 'Inherent_Risk', 'CONTROL_RISK',\n",
       "       'Detection_Risk', 'Audit_Risk', 'Risk'],\n",
       "      dtype='object')"
      ]
     },
     "execution_count": 94,
     "metadata": {},
     "output_type": "execute_result"
    }
   ],
   "source": [
    "df2.columns"
   ]
  },
  {
   "cell_type": "code",
   "execution_count": 95,
   "metadata": {},
   "outputs": [
    {
     "data": {
      "text/html": [
       "<div>\n",
       "<style scoped>\n",
       "    .dataframe tbody tr th:only-of-type {\n",
       "        vertical-align: middle;\n",
       "    }\n",
       "\n",
       "    .dataframe tbody tr th {\n",
       "        vertical-align: top;\n",
       "    }\n",
       "\n",
       "    .dataframe thead th {\n",
       "        text-align: right;\n",
       "    }\n",
       "</style>\n",
       "<table border=\"1\" class=\"dataframe\">\n",
       "  <thead>\n",
       "    <tr style=\"text-align: right;\">\n",
       "      <th></th>\n",
       "      <th>Sector_score</th>\n",
       "      <th>PARA_A</th>\n",
       "      <th>SCORE_A</th>\n",
       "      <th>PARA_B</th>\n",
       "      <th>SCORE_B</th>\n",
       "      <th>TOTAL</th>\n",
       "      <th>numbers</th>\n",
       "      <th>Marks</th>\n",
       "      <th>Money_Value</th>\n",
       "      <th>MONEY_Marks</th>\n",
       "      <th>District</th>\n",
       "      <th>Loss</th>\n",
       "      <th>LOSS_SCORE</th>\n",
       "      <th>History</th>\n",
       "      <th>History_score</th>\n",
       "      <th>Score</th>\n",
       "      <th>Risk</th>\n",
       "    </tr>\n",
       "  </thead>\n",
       "  <tbody>\n",
       "    <tr>\n",
       "      <th>count</th>\n",
       "      <td>776.000000</td>\n",
       "      <td>776.000000</td>\n",
       "      <td>776.000000</td>\n",
       "      <td>776.000000</td>\n",
       "      <td>776.000000</td>\n",
       "      <td>776.000000</td>\n",
       "      <td>776.000000</td>\n",
       "      <td>776.000000</td>\n",
       "      <td>775.000000</td>\n",
       "      <td>776.000000</td>\n",
       "      <td>776.000000</td>\n",
       "      <td>776.000000</td>\n",
       "      <td>776.000000</td>\n",
       "      <td>776.000000</td>\n",
       "      <td>776.000000</td>\n",
       "      <td>776.000000</td>\n",
       "      <td>776.000000</td>\n",
       "    </tr>\n",
       "    <tr>\n",
       "      <th>mean</th>\n",
       "      <td>20.184536</td>\n",
       "      <td>2.450194</td>\n",
       "      <td>3.512887</td>\n",
       "      <td>10.799988</td>\n",
       "      <td>3.131443</td>\n",
       "      <td>13.218481</td>\n",
       "      <td>5.067655</td>\n",
       "      <td>2.237113</td>\n",
       "      <td>14.137631</td>\n",
       "      <td>2.909794</td>\n",
       "      <td>2.505155</td>\n",
       "      <td>0.029639</td>\n",
       "      <td>2.061856</td>\n",
       "      <td>0.104381</td>\n",
       "      <td>2.167526</td>\n",
       "      <td>2.702577</td>\n",
       "      <td>0.626289</td>\n",
       "    </tr>\n",
       "    <tr>\n",
       "      <th>std</th>\n",
       "      <td>24.319017</td>\n",
       "      <td>5.678870</td>\n",
       "      <td>1.740549</td>\n",
       "      <td>50.083624</td>\n",
       "      <td>1.698042</td>\n",
       "      <td>51.312829</td>\n",
       "      <td>0.264449</td>\n",
       "      <td>0.803517</td>\n",
       "      <td>66.606519</td>\n",
       "      <td>1.597452</td>\n",
       "      <td>1.228678</td>\n",
       "      <td>0.184280</td>\n",
       "      <td>0.375080</td>\n",
       "      <td>0.531031</td>\n",
       "      <td>0.679869</td>\n",
       "      <td>0.858923</td>\n",
       "      <td>0.484100</td>\n",
       "    </tr>\n",
       "    <tr>\n",
       "      <th>min</th>\n",
       "      <td>1.850000</td>\n",
       "      <td>0.000000</td>\n",
       "      <td>2.000000</td>\n",
       "      <td>0.000000</td>\n",
       "      <td>2.000000</td>\n",
       "      <td>0.000000</td>\n",
       "      <td>5.000000</td>\n",
       "      <td>2.000000</td>\n",
       "      <td>0.000000</td>\n",
       "      <td>2.000000</td>\n",
       "      <td>2.000000</td>\n",
       "      <td>0.000000</td>\n",
       "      <td>2.000000</td>\n",
       "      <td>0.000000</td>\n",
       "      <td>2.000000</td>\n",
       "      <td>2.000000</td>\n",
       "      <td>0.000000</td>\n",
       "    </tr>\n",
       "    <tr>\n",
       "      <th>25%</th>\n",
       "      <td>2.370000</td>\n",
       "      <td>0.210000</td>\n",
       "      <td>2.000000</td>\n",
       "      <td>0.000000</td>\n",
       "      <td>2.000000</td>\n",
       "      <td>0.537500</td>\n",
       "      <td>5.000000</td>\n",
       "      <td>2.000000</td>\n",
       "      <td>0.000000</td>\n",
       "      <td>2.000000</td>\n",
       "      <td>2.000000</td>\n",
       "      <td>0.000000</td>\n",
       "      <td>2.000000</td>\n",
       "      <td>0.000000</td>\n",
       "      <td>2.000000</td>\n",
       "      <td>2.000000</td>\n",
       "      <td>0.000000</td>\n",
       "    </tr>\n",
       "    <tr>\n",
       "      <th>50%</th>\n",
       "      <td>3.890000</td>\n",
       "      <td>0.875000</td>\n",
       "      <td>2.000000</td>\n",
       "      <td>0.405000</td>\n",
       "      <td>2.000000</td>\n",
       "      <td>1.370000</td>\n",
       "      <td>5.000000</td>\n",
       "      <td>2.000000</td>\n",
       "      <td>0.090000</td>\n",
       "      <td>2.000000</td>\n",
       "      <td>2.000000</td>\n",
       "      <td>0.000000</td>\n",
       "      <td>2.000000</td>\n",
       "      <td>0.000000</td>\n",
       "      <td>2.000000</td>\n",
       "      <td>2.400000</td>\n",
       "      <td>1.000000</td>\n",
       "    </tr>\n",
       "    <tr>\n",
       "      <th>75%</th>\n",
       "      <td>55.570000</td>\n",
       "      <td>2.480000</td>\n",
       "      <td>6.000000</td>\n",
       "      <td>4.160000</td>\n",
       "      <td>4.000000</td>\n",
       "      <td>7.707500</td>\n",
       "      <td>5.000000</td>\n",
       "      <td>2.000000</td>\n",
       "      <td>5.595000</td>\n",
       "      <td>4.000000</td>\n",
       "      <td>2.000000</td>\n",
       "      <td>0.000000</td>\n",
       "      <td>2.000000</td>\n",
       "      <td>0.000000</td>\n",
       "      <td>2.000000</td>\n",
       "      <td>3.250000</td>\n",
       "      <td>1.000000</td>\n",
       "    </tr>\n",
       "    <tr>\n",
       "      <th>max</th>\n",
       "      <td>59.850000</td>\n",
       "      <td>85.000000</td>\n",
       "      <td>6.000000</td>\n",
       "      <td>1264.630000</td>\n",
       "      <td>6.000000</td>\n",
       "      <td>1268.910000</td>\n",
       "      <td>9.000000</td>\n",
       "      <td>6.000000</td>\n",
       "      <td>935.030000</td>\n",
       "      <td>6.000000</td>\n",
       "      <td>6.000000</td>\n",
       "      <td>2.000000</td>\n",
       "      <td>6.000000</td>\n",
       "      <td>9.000000</td>\n",
       "      <td>6.000000</td>\n",
       "      <td>5.200000</td>\n",
       "      <td>1.000000</td>\n",
       "    </tr>\n",
       "  </tbody>\n",
       "</table>\n",
       "</div>"
      ],
      "text/plain": [
       "       Sector_score      PARA_A     SCORE_A       PARA_B     SCORE_B  \\\n",
       "count    776.000000  776.000000  776.000000   776.000000  776.000000   \n",
       "mean      20.184536    2.450194    3.512887    10.799988    3.131443   \n",
       "std       24.319017    5.678870    1.740549    50.083624    1.698042   \n",
       "min        1.850000    0.000000    2.000000     0.000000    2.000000   \n",
       "25%        2.370000    0.210000    2.000000     0.000000    2.000000   \n",
       "50%        3.890000    0.875000    2.000000     0.405000    2.000000   \n",
       "75%       55.570000    2.480000    6.000000     4.160000    4.000000   \n",
       "max       59.850000   85.000000    6.000000  1264.630000    6.000000   \n",
       "\n",
       "             TOTAL     numbers       Marks  Money_Value  MONEY_Marks  \\\n",
       "count   776.000000  776.000000  776.000000   775.000000   776.000000   \n",
       "mean     13.218481    5.067655    2.237113    14.137631     2.909794   \n",
       "std      51.312829    0.264449    0.803517    66.606519     1.597452   \n",
       "min       0.000000    5.000000    2.000000     0.000000     2.000000   \n",
       "25%       0.537500    5.000000    2.000000     0.000000     2.000000   \n",
       "50%       1.370000    5.000000    2.000000     0.090000     2.000000   \n",
       "75%       7.707500    5.000000    2.000000     5.595000     4.000000   \n",
       "max    1268.910000    9.000000    6.000000   935.030000     6.000000   \n",
       "\n",
       "         District        Loss  LOSS_SCORE     History  History_score  \\\n",
       "count  776.000000  776.000000  776.000000  776.000000     776.000000   \n",
       "mean     2.505155    0.029639    2.061856    0.104381       2.167526   \n",
       "std      1.228678    0.184280    0.375080    0.531031       0.679869   \n",
       "min      2.000000    0.000000    2.000000    0.000000       2.000000   \n",
       "25%      2.000000    0.000000    2.000000    0.000000       2.000000   \n",
       "50%      2.000000    0.000000    2.000000    0.000000       2.000000   \n",
       "75%      2.000000    0.000000    2.000000    0.000000       2.000000   \n",
       "max      6.000000    2.000000    6.000000    9.000000       6.000000   \n",
       "\n",
       "            Score        Risk  \n",
       "count  776.000000  776.000000  \n",
       "mean     2.702577    0.626289  \n",
       "std      0.858923    0.484100  \n",
       "min      2.000000    0.000000  \n",
       "25%      2.000000    0.000000  \n",
       "50%      2.400000    1.000000  \n",
       "75%      3.250000    1.000000  \n",
       "max      5.200000    1.000000  "
      ]
     },
     "execution_count": 95,
     "metadata": {},
     "output_type": "execute_result"
    }
   ],
   "source": [
    "df1.describe()"
   ]
  },
  {
   "cell_type": "code",
   "execution_count": 96,
   "metadata": {},
   "outputs": [
    {
     "data": {
      "text/html": [
       "<div>\n",
       "<style scoped>\n",
       "    .dataframe tbody tr th:only-of-type {\n",
       "        vertical-align: middle;\n",
       "    }\n",
       "\n",
       "    .dataframe tbody tr th {\n",
       "        vertical-align: top;\n",
       "    }\n",
       "\n",
       "    .dataframe thead th {\n",
       "        text-align: right;\n",
       "    }\n",
       "</style>\n",
       "<table border=\"1\" class=\"dataframe\">\n",
       "  <thead>\n",
       "    <tr style=\"text-align: right;\">\n",
       "      <th></th>\n",
       "      <th>Sector_score</th>\n",
       "      <th>PARA_A</th>\n",
       "      <th>Score_A</th>\n",
       "      <th>Risk_A</th>\n",
       "      <th>PARA_B</th>\n",
       "      <th>Score_B</th>\n",
       "      <th>Risk_B</th>\n",
       "      <th>TOTAL</th>\n",
       "      <th>numbers</th>\n",
       "      <th>Score_B.1</th>\n",
       "      <th>...</th>\n",
       "      <th>RiSk_E</th>\n",
       "      <th>History</th>\n",
       "      <th>Prob</th>\n",
       "      <th>Risk_F</th>\n",
       "      <th>Score</th>\n",
       "      <th>Inherent_Risk</th>\n",
       "      <th>CONTROL_RISK</th>\n",
       "      <th>Detection_Risk</th>\n",
       "      <th>Audit_Risk</th>\n",
       "      <th>Risk</th>\n",
       "    </tr>\n",
       "  </thead>\n",
       "  <tbody>\n",
       "    <tr>\n",
       "      <th>count</th>\n",
       "      <td>776.000000</td>\n",
       "      <td>776.000000</td>\n",
       "      <td>776.000000</td>\n",
       "      <td>776.000000</td>\n",
       "      <td>776.000000</td>\n",
       "      <td>776.000000</td>\n",
       "      <td>776.000000</td>\n",
       "      <td>776.000000</td>\n",
       "      <td>776.000000</td>\n",
       "      <td>776.000000</td>\n",
       "      <td>...</td>\n",
       "      <td>776.000000</td>\n",
       "      <td>776.000000</td>\n",
       "      <td>776.000000</td>\n",
       "      <td>776.000000</td>\n",
       "      <td>776.000000</td>\n",
       "      <td>776.000000</td>\n",
       "      <td>776.000000</td>\n",
       "      <td>776.0</td>\n",
       "      <td>776.000000</td>\n",
       "      <td>776.000000</td>\n",
       "    </tr>\n",
       "    <tr>\n",
       "      <th>mean</th>\n",
       "      <td>20.184536</td>\n",
       "      <td>2.450194</td>\n",
       "      <td>0.351289</td>\n",
       "      <td>1.351029</td>\n",
       "      <td>10.799988</td>\n",
       "      <td>0.313144</td>\n",
       "      <td>6.334008</td>\n",
       "      <td>13.218481</td>\n",
       "      <td>5.067655</td>\n",
       "      <td>0.223711</td>\n",
       "      <td>...</td>\n",
       "      <td>0.519072</td>\n",
       "      <td>0.104381</td>\n",
       "      <td>0.216753</td>\n",
       "      <td>0.053608</td>\n",
       "      <td>2.702577</td>\n",
       "      <td>17.680612</td>\n",
       "      <td>0.572680</td>\n",
       "      <td>0.5</td>\n",
       "      <td>7.168158</td>\n",
       "      <td>0.393041</td>\n",
       "    </tr>\n",
       "    <tr>\n",
       "      <th>std</th>\n",
       "      <td>24.319017</td>\n",
       "      <td>5.678870</td>\n",
       "      <td>0.174055</td>\n",
       "      <td>3.440447</td>\n",
       "      <td>50.083624</td>\n",
       "      <td>0.169804</td>\n",
       "      <td>30.072845</td>\n",
       "      <td>51.312829</td>\n",
       "      <td>0.264449</td>\n",
       "      <td>0.080352</td>\n",
       "      <td>...</td>\n",
       "      <td>0.290312</td>\n",
       "      <td>0.531031</td>\n",
       "      <td>0.067987</td>\n",
       "      <td>0.305835</td>\n",
       "      <td>0.858923</td>\n",
       "      <td>54.740244</td>\n",
       "      <td>0.444581</td>\n",
       "      <td>0.0</td>\n",
       "      <td>38.667494</td>\n",
       "      <td>0.488741</td>\n",
       "    </tr>\n",
       "    <tr>\n",
       "      <th>min</th>\n",
       "      <td>1.850000</td>\n",
       "      <td>0.000000</td>\n",
       "      <td>0.200000</td>\n",
       "      <td>0.000000</td>\n",
       "      <td>0.000000</td>\n",
       "      <td>0.200000</td>\n",
       "      <td>0.000000</td>\n",
       "      <td>0.000000</td>\n",
       "      <td>5.000000</td>\n",
       "      <td>0.200000</td>\n",
       "      <td>...</td>\n",
       "      <td>0.400000</td>\n",
       "      <td>0.000000</td>\n",
       "      <td>0.200000</td>\n",
       "      <td>0.000000</td>\n",
       "      <td>2.000000</td>\n",
       "      <td>1.400000</td>\n",
       "      <td>0.400000</td>\n",
       "      <td>0.5</td>\n",
       "      <td>0.280000</td>\n",
       "      <td>0.000000</td>\n",
       "    </tr>\n",
       "    <tr>\n",
       "      <th>25%</th>\n",
       "      <td>2.370000</td>\n",
       "      <td>0.210000</td>\n",
       "      <td>0.200000</td>\n",
       "      <td>0.042000</td>\n",
       "      <td>0.000000</td>\n",
       "      <td>0.200000</td>\n",
       "      <td>0.000000</td>\n",
       "      <td>0.537500</td>\n",
       "      <td>5.000000</td>\n",
       "      <td>0.200000</td>\n",
       "      <td>...</td>\n",
       "      <td>0.400000</td>\n",
       "      <td>0.000000</td>\n",
       "      <td>0.200000</td>\n",
       "      <td>0.000000</td>\n",
       "      <td>2.000000</td>\n",
       "      <td>1.583500</td>\n",
       "      <td>0.400000</td>\n",
       "      <td>0.5</td>\n",
       "      <td>0.316700</td>\n",
       "      <td>0.000000</td>\n",
       "    </tr>\n",
       "    <tr>\n",
       "      <th>50%</th>\n",
       "      <td>3.890000</td>\n",
       "      <td>0.875000</td>\n",
       "      <td>0.200000</td>\n",
       "      <td>0.175000</td>\n",
       "      <td>0.405000</td>\n",
       "      <td>0.200000</td>\n",
       "      <td>0.081000</td>\n",
       "      <td>1.370000</td>\n",
       "      <td>5.000000</td>\n",
       "      <td>0.200000</td>\n",
       "      <td>...</td>\n",
       "      <td>0.400000</td>\n",
       "      <td>0.000000</td>\n",
       "      <td>0.200000</td>\n",
       "      <td>0.000000</td>\n",
       "      <td>2.400000</td>\n",
       "      <td>2.214000</td>\n",
       "      <td>0.400000</td>\n",
       "      <td>0.5</td>\n",
       "      <td>0.555600</td>\n",
       "      <td>0.000000</td>\n",
       "    </tr>\n",
       "    <tr>\n",
       "      <th>75%</th>\n",
       "      <td>55.570000</td>\n",
       "      <td>2.480000</td>\n",
       "      <td>0.600000</td>\n",
       "      <td>1.488000</td>\n",
       "      <td>4.160000</td>\n",
       "      <td>0.400000</td>\n",
       "      <td>1.840500</td>\n",
       "      <td>7.707500</td>\n",
       "      <td>5.000000</td>\n",
       "      <td>0.200000</td>\n",
       "      <td>...</td>\n",
       "      <td>0.400000</td>\n",
       "      <td>0.000000</td>\n",
       "      <td>0.200000</td>\n",
       "      <td>0.000000</td>\n",
       "      <td>3.250000</td>\n",
       "      <td>10.663500</td>\n",
       "      <td>0.400000</td>\n",
       "      <td>0.5</td>\n",
       "      <td>3.249900</td>\n",
       "      <td>1.000000</td>\n",
       "    </tr>\n",
       "    <tr>\n",
       "      <th>max</th>\n",
       "      <td>59.850000</td>\n",
       "      <td>85.000000</td>\n",
       "      <td>0.600000</td>\n",
       "      <td>51.000000</td>\n",
       "      <td>1264.630000</td>\n",
       "      <td>0.600000</td>\n",
       "      <td>758.778000</td>\n",
       "      <td>1268.910000</td>\n",
       "      <td>9.000000</td>\n",
       "      <td>0.600000</td>\n",
       "      <td>...</td>\n",
       "      <td>2.400000</td>\n",
       "      <td>9.000000</td>\n",
       "      <td>0.600000</td>\n",
       "      <td>5.400000</td>\n",
       "      <td>5.200000</td>\n",
       "      <td>801.262000</td>\n",
       "      <td>5.800000</td>\n",
       "      <td>0.5</td>\n",
       "      <td>961.514400</td>\n",
       "      <td>1.000000</td>\n",
       "    </tr>\n",
       "  </tbody>\n",
       "</table>\n",
       "<p>8 rows × 26 columns</p>\n",
       "</div>"
      ],
      "text/plain": [
       "       Sector_score      PARA_A     Score_A      Risk_A       PARA_B  \\\n",
       "count    776.000000  776.000000  776.000000  776.000000   776.000000   \n",
       "mean      20.184536    2.450194    0.351289    1.351029    10.799988   \n",
       "std       24.319017    5.678870    0.174055    3.440447    50.083624   \n",
       "min        1.850000    0.000000    0.200000    0.000000     0.000000   \n",
       "25%        2.370000    0.210000    0.200000    0.042000     0.000000   \n",
       "50%        3.890000    0.875000    0.200000    0.175000     0.405000   \n",
       "75%       55.570000    2.480000    0.600000    1.488000     4.160000   \n",
       "max       59.850000   85.000000    0.600000   51.000000  1264.630000   \n",
       "\n",
       "          Score_B      Risk_B        TOTAL     numbers   Score_B.1  \\\n",
       "count  776.000000  776.000000   776.000000  776.000000  776.000000   \n",
       "mean     0.313144    6.334008    13.218481    5.067655    0.223711   \n",
       "std      0.169804   30.072845    51.312829    0.264449    0.080352   \n",
       "min      0.200000    0.000000     0.000000    5.000000    0.200000   \n",
       "25%      0.200000    0.000000     0.537500    5.000000    0.200000   \n",
       "50%      0.200000    0.081000     1.370000    5.000000    0.200000   \n",
       "75%      0.400000    1.840500     7.707500    5.000000    0.200000   \n",
       "max      0.600000  758.778000  1268.910000    9.000000    0.600000   \n",
       "\n",
       "          ...          RiSk_E     History        Prob      Risk_F       Score  \\\n",
       "count     ...      776.000000  776.000000  776.000000  776.000000  776.000000   \n",
       "mean      ...        0.519072    0.104381    0.216753    0.053608    2.702577   \n",
       "std       ...        0.290312    0.531031    0.067987    0.305835    0.858923   \n",
       "min       ...        0.400000    0.000000    0.200000    0.000000    2.000000   \n",
       "25%       ...        0.400000    0.000000    0.200000    0.000000    2.000000   \n",
       "50%       ...        0.400000    0.000000    0.200000    0.000000    2.400000   \n",
       "75%       ...        0.400000    0.000000    0.200000    0.000000    3.250000   \n",
       "max       ...        2.400000    9.000000    0.600000    5.400000    5.200000   \n",
       "\n",
       "       Inherent_Risk  CONTROL_RISK  Detection_Risk  Audit_Risk        Risk  \n",
       "count     776.000000    776.000000           776.0  776.000000  776.000000  \n",
       "mean       17.680612      0.572680             0.5    7.168158    0.393041  \n",
       "std        54.740244      0.444581             0.0   38.667494    0.488741  \n",
       "min         1.400000      0.400000             0.5    0.280000    0.000000  \n",
       "25%         1.583500      0.400000             0.5    0.316700    0.000000  \n",
       "50%         2.214000      0.400000             0.5    0.555600    0.000000  \n",
       "75%        10.663500      0.400000             0.5    3.249900    1.000000  \n",
       "max       801.262000      5.800000             0.5  961.514400    1.000000  \n",
       "\n",
       "[8 rows x 26 columns]"
      ]
     },
     "execution_count": 96,
     "metadata": {},
     "output_type": "execute_result"
    }
   ],
   "source": [
    "df2.describe()"
   ]
  },
  {
   "cell_type": "code",
   "execution_count": 97,
   "metadata": {},
   "outputs": [],
   "source": [
    "lis1=df1.columns\n",
    "lis2=df2.columns"
   ]
  },
  {
   "cell_type": "code",
   "execution_count": 98,
   "metadata": {},
   "outputs": [],
   "source": [
    "df3=df1\n",
    "for lis in lis1:\n",
    "    if lis in lis2:\n",
    "        del df3[lis]"
   ]
  },
  {
   "cell_type": "code",
   "execution_count": 99,
   "metadata": {},
   "outputs": [
    {
     "data": {
      "text/plain": [
       "(776, 8)"
      ]
     },
     "execution_count": 99,
     "metadata": {},
     "output_type": "execute_result"
    }
   ],
   "source": [
    "df3.shape"
   ]
  },
  {
   "cell_type": "code",
   "execution_count": 100,
   "metadata": {},
   "outputs": [],
   "source": [
    "# if you look carefully SCORE_A in df3 is sames as Score_A in df2 except SCORE_A elements are sacled by a\n",
    "#factor of 10"
   ]
  },
  {
   "cell_type": "code",
   "execution_count": 101,
   "metadata": {},
   "outputs": [
    {
     "data": {
      "text/plain": [
       "(776, 6)"
      ]
     },
     "execution_count": 101,
     "metadata": {},
     "output_type": "execute_result"
    }
   ],
   "source": [
    "del df3['SCORE_A']\n",
    "del df3['SCORE_B']\n",
    "df3.shape"
   ]
  },
  {
   "cell_type": "code",
   "execution_count": 102,
   "metadata": {},
   "outputs": [],
   "source": [
    "df=pd.concat([df3, df2], axis=1)"
   ]
  },
  {
   "cell_type": "code",
   "execution_count": 103,
   "metadata": {},
   "outputs": [
    {
     "data": {
      "text/plain": [
       "(776, 33)"
      ]
     },
     "execution_count": 103,
     "metadata": {},
     "output_type": "execute_result"
    }
   ],
   "source": [
    "df.shape"
   ]
  },
  {
   "cell_type": "code",
   "execution_count": 104,
   "metadata": {},
   "outputs": [
    {
     "data": {
      "text/html": [
       "<div>\n",
       "<style scoped>\n",
       "    .dataframe tbody tr th:only-of-type {\n",
       "        vertical-align: middle;\n",
       "    }\n",
       "\n",
       "    .dataframe tbody tr th {\n",
       "        vertical-align: top;\n",
       "    }\n",
       "\n",
       "    .dataframe thead th {\n",
       "        text-align: right;\n",
       "    }\n",
       "</style>\n",
       "<table border=\"1\" class=\"dataframe\">\n",
       "  <thead>\n",
       "    <tr style=\"text-align: right;\">\n",
       "      <th></th>\n",
       "      <th>Marks</th>\n",
       "      <th>MONEY_Marks</th>\n",
       "      <th>District</th>\n",
       "      <th>Loss</th>\n",
       "      <th>LOSS_SCORE</th>\n",
       "      <th>History_score</th>\n",
       "      <th>Sector_score</th>\n",
       "      <th>LOCATION_ID</th>\n",
       "      <th>PARA_A</th>\n",
       "      <th>Score_A</th>\n",
       "      <th>...</th>\n",
       "      <th>RiSk_E</th>\n",
       "      <th>History</th>\n",
       "      <th>Prob</th>\n",
       "      <th>Risk_F</th>\n",
       "      <th>Score</th>\n",
       "      <th>Inherent_Risk</th>\n",
       "      <th>CONTROL_RISK</th>\n",
       "      <th>Detection_Risk</th>\n",
       "      <th>Audit_Risk</th>\n",
       "      <th>Risk</th>\n",
       "    </tr>\n",
       "  </thead>\n",
       "  <tbody>\n",
       "    <tr>\n",
       "      <th>0</th>\n",
       "      <td>2</td>\n",
       "      <td>2</td>\n",
       "      <td>2</td>\n",
       "      <td>0</td>\n",
       "      <td>2</td>\n",
       "      <td>2</td>\n",
       "      <td>3.89</td>\n",
       "      <td>23</td>\n",
       "      <td>4.18</td>\n",
       "      <td>0.6</td>\n",
       "      <td>...</td>\n",
       "      <td>0.4</td>\n",
       "      <td>0</td>\n",
       "      <td>0.2</td>\n",
       "      <td>0.0</td>\n",
       "      <td>2.4</td>\n",
       "      <td>8.574</td>\n",
       "      <td>0.4</td>\n",
       "      <td>0.5</td>\n",
       "      <td>1.7148</td>\n",
       "      <td>1</td>\n",
       "    </tr>\n",
       "    <tr>\n",
       "      <th>1</th>\n",
       "      <td>2</td>\n",
       "      <td>2</td>\n",
       "      <td>2</td>\n",
       "      <td>0</td>\n",
       "      <td>2</td>\n",
       "      <td>2</td>\n",
       "      <td>3.89</td>\n",
       "      <td>6</td>\n",
       "      <td>0.00</td>\n",
       "      <td>0.2</td>\n",
       "      <td>...</td>\n",
       "      <td>0.4</td>\n",
       "      <td>0</td>\n",
       "      <td>0.2</td>\n",
       "      <td>0.0</td>\n",
       "      <td>2.0</td>\n",
       "      <td>2.554</td>\n",
       "      <td>0.4</td>\n",
       "      <td>0.5</td>\n",
       "      <td>0.5108</td>\n",
       "      <td>0</td>\n",
       "    </tr>\n",
       "    <tr>\n",
       "      <th>2</th>\n",
       "      <td>2</td>\n",
       "      <td>2</td>\n",
       "      <td>2</td>\n",
       "      <td>0</td>\n",
       "      <td>2</td>\n",
       "      <td>2</td>\n",
       "      <td>3.89</td>\n",
       "      <td>6</td>\n",
       "      <td>0.51</td>\n",
       "      <td>0.2</td>\n",
       "      <td>...</td>\n",
       "      <td>0.4</td>\n",
       "      <td>0</td>\n",
       "      <td>0.2</td>\n",
       "      <td>0.0</td>\n",
       "      <td>2.0</td>\n",
       "      <td>1.548</td>\n",
       "      <td>0.4</td>\n",
       "      <td>0.5</td>\n",
       "      <td>0.3096</td>\n",
       "      <td>0</td>\n",
       "    </tr>\n",
       "    <tr>\n",
       "      <th>3</th>\n",
       "      <td>6</td>\n",
       "      <td>6</td>\n",
       "      <td>2</td>\n",
       "      <td>0</td>\n",
       "      <td>2</td>\n",
       "      <td>2</td>\n",
       "      <td>3.89</td>\n",
       "      <td>6</td>\n",
       "      <td>0.00</td>\n",
       "      <td>0.2</td>\n",
       "      <td>...</td>\n",
       "      <td>0.4</td>\n",
       "      <td>0</td>\n",
       "      <td>0.2</td>\n",
       "      <td>0.0</td>\n",
       "      <td>4.4</td>\n",
       "      <td>17.530</td>\n",
       "      <td>0.4</td>\n",
       "      <td>0.5</td>\n",
       "      <td>3.5060</td>\n",
       "      <td>1</td>\n",
       "    </tr>\n",
       "    <tr>\n",
       "      <th>4</th>\n",
       "      <td>2</td>\n",
       "      <td>2</td>\n",
       "      <td>2</td>\n",
       "      <td>0</td>\n",
       "      <td>2</td>\n",
       "      <td>2</td>\n",
       "      <td>3.89</td>\n",
       "      <td>6</td>\n",
       "      <td>0.00</td>\n",
       "      <td>0.2</td>\n",
       "      <td>...</td>\n",
       "      <td>0.4</td>\n",
       "      <td>0</td>\n",
       "      <td>0.2</td>\n",
       "      <td>0.0</td>\n",
       "      <td>2.0</td>\n",
       "      <td>1.416</td>\n",
       "      <td>0.4</td>\n",
       "      <td>0.5</td>\n",
       "      <td>0.2832</td>\n",
       "      <td>0</td>\n",
       "    </tr>\n",
       "  </tbody>\n",
       "</table>\n",
       "<p>5 rows × 33 columns</p>\n",
       "</div>"
      ],
      "text/plain": [
       "   Marks  MONEY_Marks  District  Loss  LOSS_SCORE  History_score  \\\n",
       "0      2            2         2     0           2              2   \n",
       "1      2            2         2     0           2              2   \n",
       "2      2            2         2     0           2              2   \n",
       "3      6            6         2     0           2              2   \n",
       "4      2            2         2     0           2              2   \n",
       "\n",
       "   Sector_score LOCATION_ID  PARA_A  Score_A  ...   RiSk_E  History  Prob  \\\n",
       "0          3.89          23    4.18      0.6  ...      0.4        0   0.2   \n",
       "1          3.89           6    0.00      0.2  ...      0.4        0   0.2   \n",
       "2          3.89           6    0.51      0.2  ...      0.4        0   0.2   \n",
       "3          3.89           6    0.00      0.2  ...      0.4        0   0.2   \n",
       "4          3.89           6    0.00      0.2  ...      0.4        0   0.2   \n",
       "\n",
       "   Risk_F  Score  Inherent_Risk  CONTROL_RISK  Detection_Risk  Audit_Risk  \\\n",
       "0     0.0    2.4          8.574           0.4             0.5      1.7148   \n",
       "1     0.0    2.0          2.554           0.4             0.5      0.5108   \n",
       "2     0.0    2.0          1.548           0.4             0.5      0.3096   \n",
       "3     0.0    4.4         17.530           0.4             0.5      3.5060   \n",
       "4     0.0    2.0          1.416           0.4             0.5      0.2832   \n",
       "\n",
       "   Risk  \n",
       "0     1  \n",
       "1     0  \n",
       "2     0  \n",
       "3     1  \n",
       "4     0  \n",
       "\n",
       "[5 rows x 33 columns]"
      ]
     },
     "execution_count": 104,
     "metadata": {},
     "output_type": "execute_result"
    }
   ],
   "source": [
    "df.head()"
   ]
  },
  {
   "cell_type": "code",
   "execution_count": 105,
   "metadata": {},
   "outputs": [
    {
     "name": "stdout",
     "output_type": "stream",
     "text": [
      "<class 'pandas.core.frame.DataFrame'>\n",
      "RangeIndex: 776 entries, 0 to 775\n",
      "Data columns (total 33 columns):\n",
      "Marks             776 non-null int64\n",
      "MONEY_Marks       776 non-null int64\n",
      "District          776 non-null int64\n",
      "Loss              776 non-null int64\n",
      "LOSS_SCORE        776 non-null int64\n",
      "History_score     776 non-null int64\n",
      "Sector_score      776 non-null float64\n",
      "LOCATION_ID       776 non-null object\n",
      "PARA_A            776 non-null float64\n",
      "Score_A           776 non-null float64\n",
      "Risk_A            776 non-null float64\n",
      "PARA_B            776 non-null float64\n",
      "Score_B           776 non-null float64\n",
      "Risk_B            776 non-null float64\n",
      "TOTAL             776 non-null float64\n",
      "numbers           776 non-null float64\n",
      "Score_B.1         776 non-null float64\n",
      "Risk_C            776 non-null float64\n",
      "Money_Value       775 non-null float64\n",
      "Score_MV          776 non-null float64\n",
      "Risk_D            776 non-null float64\n",
      "District_Loss     776 non-null int64\n",
      "PROB              776 non-null float64\n",
      "RiSk_E            776 non-null float64\n",
      "History           776 non-null int64\n",
      "Prob              776 non-null float64\n",
      "Risk_F            776 non-null float64\n",
      "Score             776 non-null float64\n",
      "Inherent_Risk     776 non-null float64\n",
      "CONTROL_RISK      776 non-null float64\n",
      "Detection_Risk    776 non-null float64\n",
      "Audit_Risk        776 non-null float64\n",
      "Risk              776 non-null int64\n",
      "dtypes: float64(23), int64(9), object(1)\n",
      "memory usage: 200.1+ KB\n"
     ]
    }
   ],
   "source": [
    "df.info()"
   ]
  },
  {
   "cell_type": "code",
   "execution_count": 106,
   "metadata": {},
   "outputs": [],
   "source": [
    "#money value has missing value"
   ]
  },
  {
   "cell_type": "code",
   "execution_count": 107,
   "metadata": {},
   "outputs": [],
   "source": [
    "df['Money_Value'].fillna((df['Money_Value'].mean()), inplace=True)"
   ]
  },
  {
   "cell_type": "code",
   "execution_count": 108,
   "metadata": {},
   "outputs": [],
   "source": [
    "y_reg=df['Audit_Risk']\n",
    "y_clf=df['Risk']"
   ]
  },
  {
   "cell_type": "code",
   "execution_count": 109,
   "metadata": {},
   "outputs": [],
   "source": [
    "del df['Audit_Risk']\n",
    "del df['Risk']"
   ]
  },
  {
   "cell_type": "code",
   "execution_count": 110,
   "metadata": {},
   "outputs": [],
   "source": [
    "X=df"
   ]
  },
  {
   "cell_type": "code",
   "execution_count": 111,
   "metadata": {},
   "outputs": [],
   "source": [
    "from sklearn.model_selection import train_test_split\n",
    "X_train, X_test, y_train, y_test = train_test_split( X, y_reg, test_size=0.30, random_state=42)\n",
    "X_train1, X_test1, y_train1, y_test1 = train_test_split( X, y_clf, test_size=0.30, random_state=42)\n"
   ]
  },
  {
   "cell_type": "code",
   "execution_count": 112,
   "metadata": {},
   "outputs": [],
   "source": [
    "drop1=['Risk_A','Risk_B','Risk_C','Risk_D','RiSk_E','Risk_F']\n",
    "for var in drop1:\n",
    "    del X_train[var]\n",
    "    del X_test[var]\n",
    "    del X_train1[var]\n",
    "    del X_test1[var]\n",
    "    "
   ]
  },
  {
   "cell_type": "code",
   "execution_count": 113,
   "metadata": {},
   "outputs": [],
   "source": [
    "drop2=['History','Loss','TOTAL','Score_B','Score','District_Loss','District','LOCATION_ID']\n",
    "for var in drop2:\n",
    "    del X_train[var]\n",
    "    del X_test[var]\n",
    "    del X_train1[var]\n",
    "    del X_test1[var]"
   ]
  },
  {
   "cell_type": "code",
   "execution_count": 114,
   "metadata": {},
   "outputs": [],
   "source": [
    "drop3=['numbers','Score_B.1','Score_MV','PROB','Money_Value','Prob','Detection_Risk','Score_A','CONTROL_RISK','Inherent_Risk']\n",
    "for var in drop3:\n",
    "    del X_train[var]\n",
    "    del X_test[var]\n",
    "    del X_train1[var]\n",
    "    del X_test1[var]"
   ]
  },
  {
   "cell_type": "code",
   "execution_count": 115,
   "metadata": {},
   "outputs": [
    {
     "data": {
      "text/plain": [
       "(543, 7)"
      ]
     },
     "execution_count": 115,
     "metadata": {},
     "output_type": "execute_result"
    }
   ],
   "source": [
    "X_train.shape"
   ]
  },
  {
   "cell_type": "code",
   "execution_count": 116,
   "metadata": {},
   "outputs": [
    {
     "data": {
      "text/plain": [
       "(543, 7)"
      ]
     },
     "execution_count": 116,
     "metadata": {},
     "output_type": "execute_result"
    }
   ],
   "source": [
    "X_train1.shape"
   ]
  },
  {
   "cell_type": "code",
   "execution_count": 117,
   "metadata": {},
   "outputs": [
    {
     "data": {
      "text/html": [
       "<div>\n",
       "<style scoped>\n",
       "    .dataframe tbody tr th:only-of-type {\n",
       "        vertical-align: middle;\n",
       "    }\n",
       "\n",
       "    .dataframe tbody tr th {\n",
       "        vertical-align: top;\n",
       "    }\n",
       "\n",
       "    .dataframe thead th {\n",
       "        text-align: right;\n",
       "    }\n",
       "</style>\n",
       "<table border=\"1\" class=\"dataframe\">\n",
       "  <thead>\n",
       "    <tr style=\"text-align: right;\">\n",
       "      <th></th>\n",
       "      <th>Marks</th>\n",
       "      <th>MONEY_Marks</th>\n",
       "      <th>LOSS_SCORE</th>\n",
       "      <th>History_score</th>\n",
       "      <th>Sector_score</th>\n",
       "      <th>PARA_A</th>\n",
       "      <th>PARA_B</th>\n",
       "    </tr>\n",
       "  </thead>\n",
       "  <tbody>\n",
       "    <tr>\n",
       "      <th>335</th>\n",
       "      <td>2</td>\n",
       "      <td>2</td>\n",
       "      <td>2</td>\n",
       "      <td>2</td>\n",
       "      <td>2.37</td>\n",
       "      <td>0.00</td>\n",
       "      <td>0.00</td>\n",
       "    </tr>\n",
       "    <tr>\n",
       "      <th>110</th>\n",
       "      <td>2</td>\n",
       "      <td>2</td>\n",
       "      <td>2</td>\n",
       "      <td>2</td>\n",
       "      <td>3.89</td>\n",
       "      <td>2.63</td>\n",
       "      <td>2.55</td>\n",
       "    </tr>\n",
       "    <tr>\n",
       "      <th>82</th>\n",
       "      <td>2</td>\n",
       "      <td>2</td>\n",
       "      <td>2</td>\n",
       "      <td>2</td>\n",
       "      <td>3.89</td>\n",
       "      <td>0.00</td>\n",
       "      <td>0.00</td>\n",
       "    </tr>\n",
       "    <tr>\n",
       "      <th>51</th>\n",
       "      <td>2</td>\n",
       "      <td>2</td>\n",
       "      <td>2</td>\n",
       "      <td>2</td>\n",
       "      <td>3.89</td>\n",
       "      <td>0.00</td>\n",
       "      <td>18.05</td>\n",
       "    </tr>\n",
       "    <tr>\n",
       "      <th>763</th>\n",
       "      <td>2</td>\n",
       "      <td>2</td>\n",
       "      <td>2</td>\n",
       "      <td>2</td>\n",
       "      <td>55.57</td>\n",
       "      <td>0.02</td>\n",
       "      <td>0.00</td>\n",
       "    </tr>\n",
       "  </tbody>\n",
       "</table>\n",
       "</div>"
      ],
      "text/plain": [
       "     Marks  MONEY_Marks  LOSS_SCORE  History_score  Sector_score  PARA_A  \\\n",
       "335      2            2           2              2          2.37    0.00   \n",
       "110      2            2           2              2          3.89    2.63   \n",
       "82       2            2           2              2          3.89    0.00   \n",
       "51       2            2           2              2          3.89    0.00   \n",
       "763      2            2           2              2         55.57    0.02   \n",
       "\n",
       "     PARA_B  \n",
       "335    0.00  \n",
       "110    2.55  \n",
       "82     0.00  \n",
       "51    18.05  \n",
       "763    0.00  "
      ]
     },
     "execution_count": 117,
     "metadata": {},
     "output_type": "execute_result"
    }
   ],
   "source": [
    "X_train.head()"
   ]
  },
  {
   "cell_type": "code",
   "execution_count": 118,
   "metadata": {},
   "outputs": [
    {
     "data": {
      "text/plain": [
       "0.6760183230583827"
      ]
     },
     "execution_count": 118,
     "metadata": {},
     "output_type": "execute_result"
    }
   ],
   "source": [
    "from sklearn.ensemble import BaggingRegressor\n",
    "from sklearn.tree import DecisionTreeRegressor\n",
    "bag_reg = BaggingRegressor(\n",
    "    DecisionTreeRegressor(random_state=42), n_estimators=50,\n",
    "    max_samples=200, bootstrap=True, n_jobs=-1, random_state=42)\n",
    "bag_reg.fit(X_train, y_train)\n",
    "y_pred = bag_reg.predict(X_test)\n",
    "y_pred1 = bag_reg.predict(X_train)\n",
    "from sklearn.metrics import r2_score\n",
    "r2_score(y_train,y_pred1)"
   ]
  },
  {
   "cell_type": "code",
   "execution_count": 119,
   "metadata": {},
   "outputs": [],
   "source": [
    "import numpy as np\n",
    "y_train=np.log1p(y_train)\n",
    "y_test=np.log1p(y_test)"
   ]
  },
  {
   "cell_type": "code",
   "execution_count": 120,
   "metadata": {},
   "outputs": [
    {
     "name": "stderr",
     "output_type": "stream",
     "text": [
      "/home/sanjay/anaconda3/lib/python3.7/site-packages/sklearn/preprocessing/data.py:625: DataConversionWarning: Data with input dtype int64, float64 were all converted to float64 by StandardScaler.\n",
      "  return self.partial_fit(X, y)\n",
      "/home/sanjay/anaconda3/lib/python3.7/site-packages/sklearn/base.py:462: DataConversionWarning: Data with input dtype int64, float64 were all converted to float64 by StandardScaler.\n",
      "  return self.fit(X, **fit_params).transform(X)\n",
      "/home/sanjay/anaconda3/lib/python3.7/site-packages/sklearn/preprocessing/data.py:625: DataConversionWarning: Data with input dtype int64, float64 were all converted to float64 by StandardScaler.\n",
      "  return self.partial_fit(X, y)\n",
      "/home/sanjay/anaconda3/lib/python3.7/site-packages/sklearn/base.py:462: DataConversionWarning: Data with input dtype int64, float64 were all converted to float64 by StandardScaler.\n",
      "  return self.fit(X, **fit_params).transform(X)\n",
      "/home/sanjay/anaconda3/lib/python3.7/site-packages/sklearn/preprocessing/data.py:625: DataConversionWarning: Data with input dtype int64, float64 were all converted to float64 by StandardScaler.\n",
      "  return self.partial_fit(X, y)\n",
      "/home/sanjay/anaconda3/lib/python3.7/site-packages/sklearn/base.py:462: DataConversionWarning: Data with input dtype int64, float64 were all converted to float64 by StandardScaler.\n",
      "  return self.fit(X, **fit_params).transform(X)\n",
      "/home/sanjay/anaconda3/lib/python3.7/site-packages/sklearn/preprocessing/data.py:625: DataConversionWarning: Data with input dtype int64, float64 were all converted to float64 by StandardScaler.\n",
      "  return self.partial_fit(X, y)\n",
      "/home/sanjay/anaconda3/lib/python3.7/site-packages/sklearn/base.py:462: DataConversionWarning: Data with input dtype int64, float64 were all converted to float64 by StandardScaler.\n",
      "  return self.fit(X, **fit_params).transform(X)\n"
     ]
    }
   ],
   "source": [
    "from sklearn.preprocessing import StandardScaler\n",
    "scalar = StandardScaler()\n",
    "X_train=scalar.fit_transform(X_train)\n",
    "X_test=scalar.fit_transform(X_test)\n",
    "X_train1=scalar.fit_transform(X_train1)\n",
    "X_test1=scalar.fit_transform(X_test1)"
   ]
  },
  {
   "cell_type": "code",
   "execution_count": 130,
   "metadata": {},
   "outputs": [],
   "source": [
    "from sklearn.ensemble import BaggingRegressor\n",
    "from sklearn.linear_model import Ridge\n",
    "bag_reg = BaggingRegressor(\n",
    "    Ridge(alpha=30), n_estimators=50,\n",
    "    max_samples=150, bootstrap=True, n_jobs=-1, random_state=42)\n",
    "bag_reg.fit(X_train, y_train)\n",
    "y_pred = bag_reg.predict(X_test)\n",
    "y_pred1 = bag_reg.predict(X_train)"
   ]
  },
  {
   "cell_type": "code",
   "execution_count": 131,
   "metadata": {},
   "outputs": [
    {
     "data": {
      "text/plain": [
       "0.8633444925114162"
      ]
     },
     "execution_count": 131,
     "metadata": {},
     "output_type": "execute_result"
    }
   ],
   "source": [
    "from sklearn.metrics import r2_score\n",
    "r2_score(y_train,y_pred1)"
   ]
  },
  {
   "cell_type": "code",
   "execution_count": 132,
   "metadata": {},
   "outputs": [
    {
     "data": {
      "text/plain": [
       "0.7864894246304325"
      ]
     },
     "execution_count": 132,
     "metadata": {},
     "output_type": "execute_result"
    }
   ],
   "source": [
    "from sklearn.metrics import r2_score\n",
    "r2_score(y_test,y_pred)"
   ]
  },
  {
   "cell_type": "code",
   "execution_count": 142,
   "metadata": {},
   "outputs": [],
   "source": [
    "from sklearn.ensemble import BaggingRegressor\n",
    "from sklearn.svm import SVR\n",
    "\n",
    "bag_reg = BaggingRegressor(\n",
    "    SVR(gamma='scale', C=.50, epsilon=0.1), n_estimators=50,\n",
    "    max_samples=100, bootstrap=True, n_jobs=-1, random_state=42)\n",
    "bag_reg.fit(X_train, y_train)\n",
    "y_pred = bag_reg.predict(X_test)\n",
    "y_pred1 = bag_reg.predict(X_train)"
   ]
  },
  {
   "cell_type": "code",
   "execution_count": 143,
   "metadata": {},
   "outputs": [
    {
     "data": {
      "text/plain": [
       "0.7876877262331567"
      ]
     },
     "execution_count": 143,
     "metadata": {},
     "output_type": "execute_result"
    }
   ],
   "source": [
    "from sklearn.metrics import r2_score\n",
    "r2_score(y_train,y_pred1)"
   ]
  },
  {
   "cell_type": "code",
   "execution_count": 144,
   "metadata": {},
   "outputs": [
    {
     "data": {
      "text/plain": [
       "0.7727849401149263"
      ]
     },
     "execution_count": 144,
     "metadata": {},
     "output_type": "execute_result"
    }
   ],
   "source": [
    "r2_score(y_test,y_pred)"
   ]
  },
  {
   "cell_type": "code",
   "execution_count": 41,
   "metadata": {},
   "outputs": [],
   "source": [
    "# C=.5 gives very good generalization over data\n",
    "#now let's do pasting for that there is no bootstrapping pasting"
   ]
  },
  {
   "cell_type": "code",
   "execution_count": 154,
   "metadata": {},
   "outputs": [],
   "source": [
    "from sklearn.ensemble import BaggingRegressor\n",
    "from sklearn.linear_model import Ridge\n",
    "bag_reg = BaggingRegressor(\n",
    "    Ridge(alpha=30), n_estimators=50,\n",
    "    max_samples=150, bootstrap=False, n_jobs=-1, random_state=42)\n",
    "bag_reg.fit(X_train, y_train)\n",
    "y_pred = bag_reg.predict(X_test)\n",
    "y_pred1 = bag_reg.predict(X_train)"
   ]
  },
  {
   "cell_type": "code",
   "execution_count": 155,
   "metadata": {},
   "outputs": [
    {
     "data": {
      "text/plain": [
       "0.8648194876818586"
      ]
     },
     "execution_count": 155,
     "metadata": {},
     "output_type": "execute_result"
    }
   ],
   "source": [
    "from sklearn.metrics import r2_score\n",
    "r2_score(y_train,y_pred1)"
   ]
  },
  {
   "cell_type": "code",
   "execution_count": 156,
   "metadata": {},
   "outputs": [
    {
     "data": {
      "text/plain": [
       "0.788520868850821"
      ]
     },
     "execution_count": 156,
     "metadata": {},
     "output_type": "execute_result"
    }
   ],
   "source": [
    "r2_score(y_test,y_pred)"
   ]
  },
  {
   "cell_type": "code",
   "execution_count": 169,
   "metadata": {},
   "outputs": [],
   "source": [
    "from sklearn.ensemble import BaggingRegressor\n",
    "from sklearn.linear_model import Lasso\n",
    "bag_reg = BaggingRegressor(\n",
    "    Lasso(alpha=0.01), n_estimators=50,\n",
    "    max_samples=190, bootstrap=False, n_jobs=-1, random_state=42)\n",
    "bag_reg.fit(X_train, y_train)\n",
    "y_pred = bag_reg.predict(X_test)\n",
    "y_pred1 = bag_reg.predict(X_train)"
   ]
  },
  {
   "cell_type": "code",
   "execution_count": 170,
   "metadata": {},
   "outputs": [
    {
     "data": {
      "text/plain": [
       "0.8518561230545622"
      ]
     },
     "execution_count": 170,
     "metadata": {},
     "output_type": "execute_result"
    }
   ],
   "source": [
    "from sklearn.metrics import r2_score\n",
    "r2_score(y_train,y_pred1)"
   ]
  },
  {
   "cell_type": "code",
   "execution_count": 171,
   "metadata": {},
   "outputs": [
    {
     "data": {
      "text/plain": [
       "0.740878768780446"
      ]
     },
     "execution_count": 171,
     "metadata": {},
     "output_type": "execute_result"
    }
   ],
   "source": [
    "r2_score(y_test,y_pred)"
   ]
  },
  {
   "cell_type": "code",
   "execution_count": 172,
   "metadata": {},
   "outputs": [],
   "source": [
    "from sklearn.ensemble import AdaBoostRegressor\n",
    "\n",
    "ada_reg = AdaBoostRegressor(\n",
    "    Ridge(alpha=6), n_estimators=200, learning_rate=0.5, random_state=42)\n",
    "ada_reg.fit(X_train, y_train)\n",
    "y_pred = ada_reg.predict(X_test)\n",
    "y_pred1 = ada_reg.predict(X_train)"
   ]
  },
  {
   "cell_type": "code",
   "execution_count": 173,
   "metadata": {},
   "outputs": [
    {
     "data": {
      "text/plain": [
       "0.8811986258541681"
      ]
     },
     "execution_count": 173,
     "metadata": {},
     "output_type": "execute_result"
    }
   ],
   "source": [
    "r2_score(y_train,y_pred1)"
   ]
  },
  {
   "cell_type": "code",
   "execution_count": 174,
   "metadata": {},
   "outputs": [
    {
     "data": {
      "text/plain": [
       "0.7558595730113876"
      ]
     },
     "execution_count": 174,
     "metadata": {},
     "output_type": "execute_result"
    }
   ],
   "source": [
    "r2_score(y_test,y_pred)"
   ]
  },
  {
   "cell_type": "code",
   "execution_count": 51,
   "metadata": {},
   "outputs": [],
   "source": [
    "#GradientBoosting"
   ]
  },
  {
   "cell_type": "code",
   "execution_count": 175,
   "metadata": {},
   "outputs": [
    {
     "data": {
      "text/plain": [
       "Ridge(alpha=10, copy_X=True, fit_intercept=True, max_iter=None,\n",
       "   normalize=False, random_state=None, solver='cholesky', tol=0.001)"
      ]
     },
     "execution_count": 175,
     "metadata": {},
     "output_type": "execute_result"
    }
   ],
   "source": [
    "from sklearn.linear_model import Ridge\n",
    "ridge_reg = Ridge(alpha=10, solver=\"cholesky\")\n",
    "ridge_reg.fit(X_train, y_train)"
   ]
  },
  {
   "cell_type": "code",
   "execution_count": 176,
   "metadata": {},
   "outputs": [
    {
     "data": {
      "text/plain": [
       "Ridge(alpha=1, copy_X=True, fit_intercept=True, max_iter=None,\n",
       "   normalize=False, random_state=None, solver='cholesky', tol=0.001)"
      ]
     },
     "execution_count": 176,
     "metadata": {},
     "output_type": "execute_result"
    }
   ],
   "source": [
    "y2 = y_train - ridge_reg.predict(X_train)\n",
    "ridge_reg1 = Ridge(alpha=1, solver=\"cholesky\")\n",
    "ridge_reg1.fit(X_train, y2)"
   ]
  },
  {
   "cell_type": "code",
   "execution_count": 177,
   "metadata": {},
   "outputs": [
    {
     "data": {
      "text/plain": [
       "Ridge(alpha=6, copy_X=True, fit_intercept=True, max_iter=None,\n",
       "   normalize=False, random_state=None, solver='cholesky', tol=0.001)"
      ]
     },
     "execution_count": 177,
     "metadata": {},
     "output_type": "execute_result"
    }
   ],
   "source": [
    "y3 = y2 - ridge_reg1.predict(X_train)\n",
    "ridge_reg2 = Ridge(alpha=6, solver=\"cholesky\")\n",
    "ridge_reg2.fit(X_train, y3)"
   ]
  },
  {
   "cell_type": "code",
   "execution_count": 178,
   "metadata": {},
   "outputs": [],
   "source": [
    "y_pred = sum(reg.predict(X_test) for reg in (ridge_reg, ridge_reg1, ridge_reg2))"
   ]
  },
  {
   "cell_type": "code",
   "execution_count": 179,
   "metadata": {},
   "outputs": [],
   "source": [
    "y_pred1 = sum(reg.predict(X_train) for reg in (ridge_reg, ridge_reg1, ridge_reg2))"
   ]
  },
  {
   "cell_type": "code",
   "execution_count": 180,
   "metadata": {},
   "outputs": [
    {
     "data": {
      "text/plain": [
       "0.8737453160578845"
      ]
     },
     "execution_count": 180,
     "metadata": {},
     "output_type": "execute_result"
    }
   ],
   "source": [
    "r2_score(y_train,y_pred1)"
   ]
  },
  {
   "cell_type": "code",
   "execution_count": 181,
   "metadata": {},
   "outputs": [
    {
     "data": {
      "text/plain": [
       "0.7684449702905649"
      ]
     },
     "execution_count": 181,
     "metadata": {},
     "output_type": "execute_result"
    }
   ],
   "source": [
    "r2_score(y_test,y_pred)"
   ]
  },
  {
   "cell_type": "code",
   "execution_count": 187,
   "metadata": {},
   "outputs": [],
   "source": [
    "from matplotlib import pyplot as plt\n",
    "from sklearn.decomposition import PCA as sklearnPCA\n",
    "sklearn_pca = sklearnPCA(n_components=5)\n",
    "X_trainpca = sklearn_pca.fit_transform(X_train)\n",
    "X_testpca = sklearn_pca.fit_transform(X_test)"
   ]
  },
  {
   "cell_type": "code",
   "execution_count": 188,
   "metadata": {},
   "outputs": [
    {
     "data": {
      "text/plain": [
       "Ridge(alpha=1, copy_X=True, fit_intercept=True, max_iter=None,\n",
       "   normalize=False, random_state=None, solver='cholesky', tol=0.001)"
      ]
     },
     "execution_count": 188,
     "metadata": {},
     "output_type": "execute_result"
    }
   ],
   "source": [
    "from sklearn.linear_model import Ridge\n",
    "ridge_reg = Ridge(alpha=1, solver=\"cholesky\")\n",
    "ridge_reg.fit(X_trainpca, y_train)"
   ]
  },
  {
   "cell_type": "code",
   "execution_count": 189,
   "metadata": {},
   "outputs": [],
   "source": [
    "y_pred1=ridge_reg.predict(X_trainpca)\n",
    "y_pred=ridge_reg.predict(X_testpca)"
   ]
  },
  {
   "cell_type": "code",
   "execution_count": 190,
   "metadata": {},
   "outputs": [
    {
     "data": {
      "text/plain": [
       "0.8425164269734766"
      ]
     },
     "execution_count": 190,
     "metadata": {},
     "output_type": "execute_result"
    }
   ],
   "source": [
    "r2_score(y_train,y_pred1)"
   ]
  },
  {
   "cell_type": "code",
   "execution_count": 191,
   "metadata": {},
   "outputs": [
    {
     "data": {
      "text/plain": [
       "0.7668388874444638"
      ]
     },
     "execution_count": 191,
     "metadata": {},
     "output_type": "execute_result"
    }
   ],
   "source": [
    "r2_score(y_test,y_pred)"
   ]
  },
  {
   "cell_type": "code",
   "execution_count": 64,
   "metadata": {},
   "outputs": [],
   "source": [
    "#here  pass x_train_pca and testpca as an arguments for PCA inputs"
   ]
  },
  {
   "cell_type": "code",
   "execution_count": 65,
   "metadata": {},
   "outputs": [],
   "source": [
    "#classification"
   ]
  },
  {
   "cell_type": "code",
   "execution_count": 66,
   "metadata": {},
   "outputs": [],
   "source": [
    "from sklearn.ensemble import BaggingClassifier\n",
    "from sklearn.svm import SVC\n",
    "bag_clf = BaggingClassifier(\n",
    "SVC(kernel='linear',C=10), n_estimators=500,\n",
    "max_samples=100, bootstrap=True, n_jobs=-1\n",
    ")\n",
    "bag_clf.fit(X_train1, y_train1)\n",
    "y_pred = bag_clf.predict(X_test1)\n",
    "y_pred1=bag_clf.predict(X_train1)"
   ]
  },
  {
   "cell_type": "code",
   "execution_count": 67,
   "metadata": {},
   "outputs": [
    {
     "data": {
      "text/plain": [
       "array([[139,   2],\n",
       "       [ 22,  70]])"
      ]
     },
     "execution_count": 67,
     "metadata": {},
     "output_type": "execute_result"
    }
   ],
   "source": [
    "from sklearn.metrics import confusion_matrix\n",
    "mat = confusion_matrix(y_test1, y_pred)\n",
    "mat\n",
    "#testing"
   ]
  },
  {
   "cell_type": "code",
   "execution_count": 68,
   "metadata": {},
   "outputs": [
    {
     "data": {
      "text/plain": [
       "array([[327,   3],\n",
       "       [ 40, 173]])"
      ]
     },
     "execution_count": 68,
     "metadata": {},
     "output_type": "execute_result"
    }
   ],
   "source": [
    "mat = confusion_matrix(y_train1, y_pred1)\n",
    "mat\n",
    "#training"
   ]
  },
  {
   "cell_type": "code",
   "execution_count": 69,
   "metadata": {},
   "outputs": [
    {
     "name": "stdout",
     "output_type": "stream",
     "text": [
      "Accuracy: 0.8969957081545065\n"
     ]
    }
   ],
   "source": [
    "from sklearn import metrics\n",
    "print(\"Accuracy:\",metrics.accuracy_score(y_test1, y_pred))"
   ]
  },
  {
   "cell_type": "code",
   "execution_count": 70,
   "metadata": {},
   "outputs": [],
   "source": [
    "from sklearn.ensemble import BaggingClassifier\n",
    "from sklearn.neighbors import KNeighborsClassifier\n",
    "bag_clf = BaggingClassifier(\n",
    "KNeighborsClassifier(n_neighbors=6), n_estimators=500,\n",
    "max_samples=100, bootstrap=True, n_jobs=-1\n",
    ")\n",
    "bag_clf.fit(X_train1, y_train1)\n",
    "y_pred = bag_clf.predict(X_test1)\n",
    "y_pred1=bag_clf.predict(X_train1)"
   ]
  },
  {
   "cell_type": "code",
   "execution_count": 71,
   "metadata": {},
   "outputs": [
    {
     "data": {
      "text/plain": [
       "array([[135,   6],\n",
       "       [ 23,  69]])"
      ]
     },
     "execution_count": 71,
     "metadata": {},
     "output_type": "execute_result"
    }
   ],
   "source": [
    "from sklearn.metrics import confusion_matrix\n",
    "mat = confusion_matrix(y_test1, y_pred)\n",
    "mat\n",
    "#testing"
   ]
  },
  {
   "cell_type": "code",
   "execution_count": 72,
   "metadata": {},
   "outputs": [
    {
     "name": "stdout",
     "output_type": "stream",
     "text": [
      "Accuracy: 0.8755364806866953\n"
     ]
    }
   ],
   "source": [
    "from sklearn import metrics\n",
    "print(\"Accuracy:\",metrics.accuracy_score(y_test1, y_pred))"
   ]
  },
  {
   "cell_type": "code",
   "execution_count": 73,
   "metadata": {},
   "outputs": [],
   "source": [
    "#pasting"
   ]
  },
  {
   "cell_type": "code",
   "execution_count": 74,
   "metadata": {},
   "outputs": [],
   "source": [
    "from sklearn.ensemble import BaggingClassifier\n",
    "from sklearn.neighbors import KNeighborsClassifier\n",
    "bag_clf = BaggingClassifier(\n",
    "KNeighborsClassifier(n_neighbors=6), n_estimators=500,\n",
    "max_samples=100, bootstrap=False, n_jobs=-1\n",
    ")\n",
    "bag_clf.fit(X_train1, y_train1)\n",
    "y_pred = bag_clf.predict(X_test1)\n",
    "y_pred1=bag_clf.predict(X_train1)"
   ]
  },
  {
   "cell_type": "code",
   "execution_count": 75,
   "metadata": {},
   "outputs": [
    {
     "data": {
      "text/plain": [
       "array([[135,   6],\n",
       "       [ 23,  69]])"
      ]
     },
     "execution_count": 75,
     "metadata": {},
     "output_type": "execute_result"
    }
   ],
   "source": [
    "from sklearn.metrics import confusion_matrix\n",
    "mat = confusion_matrix(y_test1, y_pred)\n",
    "mat"
   ]
  },
  {
   "cell_type": "code",
   "execution_count": 76,
   "metadata": {},
   "outputs": [
    {
     "name": "stdout",
     "output_type": "stream",
     "text": [
      "Accuracy: 0.8755364806866953\n"
     ]
    }
   ],
   "source": [
    "from sklearn import metrics\n",
    "print(\"Accuracy:\",metrics.accuracy_score(y_test1, y_pred))"
   ]
  },
  {
   "cell_type": "code",
   "execution_count": 77,
   "metadata": {},
   "outputs": [],
   "source": [
    "from sklearn.ensemble import BaggingClassifier\n",
    "from sklearn.svm import SVC\n",
    "bag_clf = BaggingClassifier(\n",
    "SVC(kernel='linear',C=20), n_estimators=500,\n",
    "max_samples=100, bootstrap=False, n_jobs=-1\n",
    ")\n",
    "bag_clf.fit(X_train1, y_train1)\n",
    "y_pred = bag_clf.predict(X_test1)\n",
    "y_pred1=bag_clf.predict(X_train1)"
   ]
  },
  {
   "cell_type": "code",
   "execution_count": 78,
   "metadata": {},
   "outputs": [
    {
     "data": {
      "text/plain": [
       "array([[141,   0],\n",
       "       [ 23,  69]])"
      ]
     },
     "execution_count": 78,
     "metadata": {},
     "output_type": "execute_result"
    }
   ],
   "source": [
    "from sklearn.metrics import confusion_matrix\n",
    "mat = confusion_matrix(y_test1, y_pred)\n",
    "mat"
   ]
  },
  {
   "cell_type": "code",
   "execution_count": 79,
   "metadata": {},
   "outputs": [],
   "source": [
    "#adaboost"
   ]
  },
  {
   "cell_type": "code",
   "execution_count": 80,
   "metadata": {},
   "outputs": [],
   "source": [
    "from sklearn.ensemble import AdaBoostClassifier\n",
    "\n",
    "ada_clf = AdaBoostClassifier(\n",
    "    SVC(kernel='linear',C=10),algorithm='SAMME', n_estimators=150, learning_rate=0.5, random_state=42)\n",
    "ada_clf.fit(X_train1, y_train1)\n",
    "y_pred = ada_clf.predict(X_test1)\n",
    "y_pred1=ada_clf.predict(X_train1)"
   ]
  },
  {
   "cell_type": "code",
   "execution_count": 81,
   "metadata": {},
   "outputs": [
    {
     "data": {
      "text/plain": [
       "array([[134,   7],\n",
       "       [ 20,  72]])"
      ]
     },
     "execution_count": 81,
     "metadata": {},
     "output_type": "execute_result"
    }
   ],
   "source": [
    "mat = confusion_matrix(y_test1, y_pred)\n",
    "mat"
   ]
  },
  {
   "cell_type": "code",
   "execution_count": 82,
   "metadata": {},
   "outputs": [],
   "source": [
    "from matplotlib import pyplot as plt\n",
    "from sklearn.decomposition import PCA as sklearnPCA\n",
    "sklearn_pca = sklearnPCA(n_components=2)\n",
    "X_trainpca = sklearn_pca.fit_transform(X_train1)\n",
    "X_testpca = sklearn_pca.fit_transform(X_test1)"
   ]
  },
  {
   "cell_type": "code",
   "execution_count": 83,
   "metadata": {},
   "outputs": [],
   "source": [
    "from sklearn.svm import SVC\n",
    "svc = SVC(kernel='linear',C=10)\n",
    "svc.fit(X_trainpca,y_train1)\n",
    "y_pred = svc.predict(X_testpca)\n",
    "y_pred1=svc.predict(X_trainpca)"
   ]
  },
  {
   "cell_type": "code",
   "execution_count": 84,
   "metadata": {},
   "outputs": [
    {
     "data": {
      "text/plain": [
       "array([[135,   6],\n",
       "       [ 23,  69]])"
      ]
     },
     "execution_count": 84,
     "metadata": {},
     "output_type": "execute_result"
    }
   ],
   "source": [
    "mat = confusion_matrix(y_test1, y_pred)\n",
    "mat"
   ]
  },
  {
   "cell_type": "code",
   "execution_count": 85,
   "metadata": {},
   "outputs": [],
   "source": [
    "from sklearn.neighbors import KNeighborsClassifier\n",
    "model = KNeighborsClassifier(n_neighbors=15)\n",
    "model.fit(X_trainpca,y_train1)\n",
    "y_pred = model.predict(X_testpca)\n",
    "y_pred1=model.predict(X_trainpca)"
   ]
  },
  {
   "cell_type": "code",
   "execution_count": 86,
   "metadata": {},
   "outputs": [
    {
     "data": {
      "text/plain": [
       "array([[135,   6],\n",
       "       [ 21,  71]])"
      ]
     },
     "execution_count": 86,
     "metadata": {},
     "output_type": "execute_result"
    }
   ],
   "source": [
    "mat = confusion_matrix(y_test1, y_pred)\n",
    "mat"
   ]
  },
  {
   "cell_type": "code",
   "execution_count": null,
   "metadata": {},
   "outputs": [],
   "source": []
  }
 ],
 "metadata": {
  "kernelspec": {
   "display_name": "Python 3",
   "language": "python",
   "name": "python3"
  },
  "language_info": {
   "codemirror_mode": {
    "name": "ipython",
    "version": 3
   },
   "file_extension": ".py",
   "mimetype": "text/x-python",
   "name": "python",
   "nbconvert_exporter": "python",
   "pygments_lexer": "ipython3",
   "version": "3.7.1"
  }
 },
 "nbformat": 4,
 "nbformat_minor": 2
}
